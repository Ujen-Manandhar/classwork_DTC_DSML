{
 "cells": [
  {
   "cell_type": "code",
   "execution_count": 4,
   "id": "8a04692c-36ae-49ad-8333-38d5ee2ed5c3",
   "metadata": {},
   "outputs": [
    {
     "data": {
      "text/plain": [
       "[[1, 2, 4, 5, 6, 11], [2, 3, 5, 7, 1, 1, 117], [9, 10, 100, 3, 3, 5, 5]]"
      ]
     },
     "execution_count": 4,
     "metadata": {},
     "output_type": "execute_result"
    }
   ],
   "source": [
    "nested_list = [\n",
    "    [1,2,4,5,6,11],\n",
    "    [2,3,5,7,1,1,117],\n",
    "    [9,10,100,3,3,5,5],\n",
    "]\n",
    "nested_list"
   ]
  },
  {
   "cell_type": "code",
   "execution_count": 34,
   "id": "106408ff-9886-444e-9c75-55d0c6b16584",
   "metadata": {},
   "outputs": [],
   "source": [
    "#list to flatten the list\n",
    "list_flat = []"
   ]
  },
  {
   "cell_type": "code",
   "execution_count": 35,
   "id": "9b16f2a6-7ee9-4c8a-a58c-c8bae71fe1e8",
   "metadata": {},
   "outputs": [
    {
     "name": "stdout",
     "output_type": "stream",
     "text": [
      "[1, 2, 4, 5, 6, 11, 2, 3, 5, 7, 1, 1, 117, 9, 10, 100, 3, 3, 5, 5]\n"
     ]
    }
   ],
   "source": [
    "#iterating through the nested_list\n",
    "for number_list in nested_list:\n",
    "    #iterating through the number_list and flattening the list\n",
    "    for number in number_list:\n",
    "        list_flat.append(number)\n",
    "print(list_flat)"
   ]
  },
  {
   "cell_type": "code",
   "execution_count": 37,
   "id": "cfbb48f0-04f1-434b-b069-4dd82caf4864",
   "metadata": {},
   "outputs": [
    {
     "name": "stdout",
     "output_type": "stream",
     "text": [
      "[1, 2, 3, 4, 5, 6, 7, 100, 9, 10, 11, 117]\n"
     ]
    }
   ],
   "source": [
    "#to get only unique values of the list \n",
    "unique_value = list(set(list_flat))\n",
    "print(unique_value)"
   ]
  },
  {
   "cell_type": "code",
   "execution_count": 41,
   "id": "112e206a-8dc7-4d90-b729-a32742fbfccf",
   "metadata": {},
   "outputs": [
    {
     "data": {
      "text/plain": [
       "100"
      ]
     },
     "execution_count": 41,
     "metadata": {},
     "output_type": "execute_result"
    }
   ],
   "source": [
    "#sorting the list and taking the 2 value \n",
    "sorted_list = sorted(unique_value)\n",
    "sorted_list[-2]"
   ]
  }
 ],
 "metadata": {
  "kernelspec": {
   "display_name": "Python 3 (ipykernel)",
   "language": "python",
   "name": "python3"
  },
  "language_info": {
   "codemirror_mode": {
    "name": "ipython",
    "version": 3
   },
   "file_extension": ".py",
   "mimetype": "text/x-python",
   "name": "python",
   "nbconvert_exporter": "python",
   "pygments_lexer": "ipython3",
   "version": "3.12.4"
  }
 },
 "nbformat": 4,
 "nbformat_minor": 5
}
