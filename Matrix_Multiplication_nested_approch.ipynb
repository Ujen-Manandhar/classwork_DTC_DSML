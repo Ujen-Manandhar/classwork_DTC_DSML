{
 "cells": [
  {
   "cell_type": "code",
   "execution_count": 26,
   "id": "a9f404e4-db5f-493f-ab19-fdfdc92f8568",
   "metadata": {},
   "outputs": [
    {
     "data": {
      "text/plain": [
       "[[2, 3, 4], [4, 3, 2]]"
      ]
     },
     "execution_count": 26,
     "metadata": {},
     "output_type": "execute_result"
    }
   ],
   "source": [
    "matrix_a = [\n",
    "    [2,3,4],\n",
    "    [4,3,2],\n",
    "]\n",
    "# 2 x 3 matrix\n",
    "matrix_a"
   ]
  },
  {
   "cell_type": "code",
   "execution_count": 25,
   "id": "40019125-b921-4301-9fda-d864621d915e",
   "metadata": {},
   "outputs": [
    {
     "data": {
      "text/plain": [
       "[[2, 3, 4, 5], [3, 4, 5, 6], [1, 2, 3, 8]]"
      ]
     },
     "execution_count": 25,
     "metadata": {},
     "output_type": "execute_result"
    }
   ],
   "source": [
    "matrix_b = [\n",
    "    [2,3,4,5],\n",
    "    [3,4,5,6],\n",
    "    [1,2,3,8],\n",
    "]\n",
    "# 3 x 4 matrix\n",
    "matrix_b"
   ]
  },
  {
   "cell_type": "code",
   "execution_count": 27,
   "id": "7561477c-e66a-478f-b211-7d2238b13646",
   "metadata": {},
   "outputs": [
    {
     "data": {
      "text/plain": [
       "[[0, 0, 0, 0], [0, 0, 0, 0]]"
      ]
     },
     "execution_count": 27,
     "metadata": {},
     "output_type": "execute_result"
    }
   ],
   "source": [
    "# as the row and coulum of matrix_a and matrix_b are equal \n",
    "# the resulting matrix will be 2 x 4 matrix\n",
    "result_matrix = [\n",
    "    [0,0,0,0],\n",
    "    [0,0,0,0],\n",
    "]\n",
    "result_matrix"
   ]
  },
  {
   "cell_type": "code",
   "execution_count": 28,
   "id": "73d7d61b-148e-4cec-a437-3060c539ff41",
   "metadata": {},
   "outputs": [
    {
     "data": {
      "text/plain": [
       "[[17, 26, 35, 60], [19, 28, 37, 54]]"
      ]
     },
     "execution_count": 28,
     "metadata": {},
     "output_type": "execute_result"
    }
   ],
   "source": [
    "#go through result matrix row\n",
    "for row in range (0, len(result_matrix)):\n",
    "    # go through the result matrix column\n",
    "    for column in range (0, len(result_matrix[0])):\n",
    "        # finding the common of the two matricies ie; 2x3 and 3x4 as the column and row of the marices are equal\n",
    "        for common in range (0, len(matrix_b)):\n",
    "            # multiplying the two matricies \n",
    "            result_matrix[row][column] = result_matrix[row][column]+ matrix_a[row][common]*matrix_b[common][column]\n",
    "result_matrix\n",
    "        "
   ]
  }
 ],
 "metadata": {
  "kernelspec": {
   "display_name": "Python 3 (ipykernel)",
   "language": "python",
   "name": "python3"
  },
  "language_info": {
   "codemirror_mode": {
    "name": "ipython",
    "version": 3
   },
   "file_extension": ".py",
   "mimetype": "text/x-python",
   "name": "python",
   "nbconvert_exporter": "python",
   "pygments_lexer": "ipython3",
   "version": "3.12.4"
  }
 },
 "nbformat": 4,
 "nbformat_minor": 5
}
